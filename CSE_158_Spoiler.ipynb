{
  "cells": [
    {
      "cell_type": "markdown",
      "metadata": {
        "id": "view-in-github",
        "colab_type": "text"
      },
      "source": [
        "<a href=\"https://colab.research.google.com/github/AndrewLCA/CSE-158-Spoiler/blob/main/CSE_158_Spoiler.ipynb\" target=\"_parent\"><img src=\"https://colab.research.google.com/assets/colab-badge.svg\" alt=\"Open In Colab\"/></a>"
      ]
    },
    {
      "cell_type": "code",
      "execution_count": null,
      "metadata": {
        "colab": {
          "base_uri": "https://localhost:8080/"
        },
        "id": "k0DhHp_9lfZV",
        "outputId": "084be2f2-933e-4f85-c9c0-41b59f7b4e87"
      },
      "outputs": [
        {
          "output_type": "stream",
          "name": "stdout",
          "text": [
            "--2024-12-02 20:49:54--  https://datarepo.eng.ucsd.edu/mcauley_group/gdrive/goodreads/goodreads_reviews_spoiler.json.gz\n",
            "Resolving datarepo.eng.ucsd.edu (datarepo.eng.ucsd.edu)... 132.239.8.30\n",
            "Connecting to datarepo.eng.ucsd.edu (datarepo.eng.ucsd.edu)|132.239.8.30|:443... connected.\n",
            "HTTP request sent, awaiting response... 200 OK\n",
            "Length: 620474664 (592M) [application/x-gzip]\n",
            "Saving to: ‘goodreads_reviews_spoiler.json.gz.1’\n",
            "\n",
            "goodreads_reviews_s 100%[===================>] 591.73M  80.9MB/s    in 15s     \n",
            "\n",
            "2024-12-02 20:50:09 (38.8 MB/s) - ‘goodreads_reviews_spoiler.json.gz.1’ saved [620474664/620474664]\n",
            "\n"
          ]
        }
      ],
      "source": [
        "!wget https://datarepo.eng.ucsd.edu/mcauley_group/gdrive/goodreads/goodreads_reviews_spoiler.json.gz"
      ]
    },
    {
      "cell_type": "code",
      "execution_count": null,
      "metadata": {
        "id": "3Ib9b8FWD-N3"
      },
      "outputs": [],
      "source": [
        "import json\n",
        "import gzip\n",
        "import pandas as pd\n",
        "import nltk\n",
        "from nltk.tokenize import word_tokenize\n",
        "from nltk.corpus import stopwords\n",
        "import string\n",
        "import numpy as np\n",
        "from gensim.models import Word2Vec\n",
        "from sklearn.model_selection import train_test_split\n",
        "from sklearn.ensemble import RandomForestClassifier\n",
        "from sklearn.metrics import accuracy_score, classification_report\n",
        "import seaborn as sns\n",
        "import matplotlib.pyplot as plt\n",
        "from sklearn.model_selection import train_test_split\n",
        "from sklearn.linear_model import LogisticRegression\n",
        "from pprint import pp"
      ]
    },
    {
      "cell_type": "code",
      "source": [
        "#################################################\n",
        "# Read in Dataset                               #\n",
        "#################################################"
      ],
      "metadata": {
        "id": "DWWMnu5uZr2I"
      },
      "execution_count": null,
      "outputs": []
    },
    {
      "cell_type": "code",
      "execution_count": null,
      "metadata": {
        "id": "8mc74Tr6-jL4"
      },
      "outputs": [],
      "source": [
        "filename = \"goodreads_reviews_spoiler.json.gz\"\n",
        "all_data = []\n",
        "# max_count = 30000\n",
        "# count = 0\n",
        "with gzip.open(filename, 'rt') as f:\n",
        "  for line in f:\n",
        "    all_data.append(json.loads(line))\n"
      ]
    },
    {
      "cell_type": "code",
      "source": [
        "\n",
        "\n",
        "#split dataset in half to parse train/test sets\n",
        "raw_test_data, raw_train_data = train_test_split(all_data, test_size=0.5, random_state=42)\n",
        "\n",
        "#select train size = 40000, test size = 5000\n",
        "#half are spoilers, half are non-spoilers\n",
        "trainData = []\n",
        "numSpoilerTrain = 0\n",
        "numNonSpoilerTrain = 0\n",
        "for review in raw_train_data:\n",
        "  if(review['has_spoiler'] and numSpoilerTrain < 20000):\n",
        "    trainData.append(review)\n",
        "    numSpoilerTrain += 1\n",
        "  elif(not review['has_spoiler'] and numNonSpoilerTrain < 20000):\n",
        "    trainData.append(review)\n",
        "    numNonSpoilerTrain += 1\n",
        "train_df = pd.DataFrame(trainData)\n",
        "print(train_df.head())\n",
        "\n",
        "testData = []\n",
        "numSpoiler = 0\n",
        "numNonSpoiler = 0\n",
        "for review in raw_test_data:\n",
        "  if(review['has_spoiler'] and numSpoiler < 2500):\n",
        "    testData.append(review)\n",
        "    numSpoiler += 1\n",
        "  elif(not review['has_spoiler'] and numNonSpoiler < 2500):\n",
        "    testData.append(review)\n",
        "    numNonSpoiler += 1\n",
        "test_df = pd.DataFrame(testData)\n",
        "print(test_df.head())\n",
        "\n",
        "## get random test set (ie not 50/50 split)\n",
        "unused_data, rand_test_data = train_test_split(all_data, test_size=0.05, random_state=42)\n",
        "len(rand_test_data)\n",
        "\n",
        "## get random train set (ie not 50/50 split)\n",
        "unused_data, rand_train_data = train_test_split(unused_data, test_size=0.1, random_state=12)\n",
        "len(rand_train_data)"
      ],
      "metadata": {
        "id": "9UNKbMcurDde",
        "colab": {
          "base_uri": "https://localhost:8080/"
        },
        "outputId": "16c42a84-a115-4afa-85c8-e43d69f49bed"
      },
      "execution_count": null,
      "outputs": [
        {
          "output_type": "stream",
          "name": "stdout",
          "text": [
            "                            user_id   timestamp  \\\n",
            "0  818a07d4b1a085d65a3851c9f68f148d  2017-02-28   \n",
            "1  eac49beafd4485d9c564dc8fab576fb8  2014-10-29   \n",
            "2  c6f39599f1c5d67d491a86fa6bafb816  2013-08-31   \n",
            "3  900c1edf2ede90f385872938ce6f16c9  2014-07-04   \n",
            "4  8dab3f118616eb3f550a927f35533905  2015-02-09   \n",
            "\n",
            "                                    review_sentences  rating  has_spoiler  \\\n",
            "0  [[0, Not sure I'm going to write a full review...       4        False   \n",
            "1  [[0, Hooray this book is finally out!], [0, An...       4        False   \n",
            "2  [[0, I think I'm losing interest in NA.], [0, ...       0        False   \n",
            "3  [[0, This book features Michael, the man who d...       4         True   \n",
            "4  [[0, As with the first book in the Kitty Norvi...       5        False   \n",
            "\n",
            "    book_id                         review_id  \n",
            "0  28587986  e514962749c07da42f1390899687b4ad  \n",
            "1  15844362  138145607be0564b1695e17590348035  \n",
            "2  17571742  30b720179cdf157b904d06f038dfc8a2  \n",
            "3  22370569  bf1dc58672a2e92a66ae117100356566  \n",
            "4     14460  23cee20df1f02784af03f3af30ae21e9  \n",
            "                            user_id   timestamp  \\\n",
            "0  f0b9c0d7bfdc779e463767f56b2fad39  2017-08-25   \n",
            "1  02d5c0e64b118ea6baa44a04ffe27bc4  2013-08-05   \n",
            "2  7fdc4d5d614763959c53c8ef862e89a3  2015-03-17   \n",
            "3  e7b844fe6eaecb51dbd932f3d10348fd  2015-01-12   \n",
            "4  d7a4cdf821209b7aee082a42a9e72cb8  2016-04-13   \n",
            "\n",
            "                                    review_sentences  rating  has_spoiler  \\\n",
            "0  [[0, Did he know how grateful I was?], [0, Did...       4        False   \n",
            "1  [[0, *ARC Provided by NetGalley], [0, This sto...       3        False   \n",
            "2  [[0, I had one major quibble with this book:],...       4         True   \n",
            "3  [[0, Full review can be found here], [0, Thank...       2        False   \n",
            "4  [[0, This works as a great ending to what was ...       0        False   \n",
            "\n",
            "    book_id                         review_id  \n",
            "0  33028674  c12f9af4f41f7b42ce22cbcf65d87ebf  \n",
            "1  18131592  0c1767ceefc5f18fa28f356ee32649dd  \n",
            "2   8150317  1f2155d08250a293e282851805cb4837  \n",
            "3  13265293  0e04e1ae7b98fe3c807584f4ec543f7a  \n",
            "4  25595150  a9776bf0f06007a648baedc7a0b2b754  \n"
          ]
        },
        {
          "output_type": "execute_result",
          "data": {
            "text/plain": [
              "130914"
            ]
          },
          "metadata": {},
          "execution_count": 59
        }
      ]
    },
    {
      "cell_type": "code",
      "source": [
        "rand_test_df = pd.DataFrame(rand_test_data)\n",
        "rand_test_df.head()"
      ],
      "metadata": {
        "colab": {
          "base_uri": "https://localhost:8080/",
          "height": 399
        },
        "id": "-3c4hBA2V3G6",
        "outputId": "292ba394-d288-4073-aa6f-b3249c3929fb"
      },
      "execution_count": null,
      "outputs": [
        {
          "output_type": "execute_result",
          "data": {
            "text/plain": [
              "                            user_id   timestamp  \\\n",
              "0  818a07d4b1a085d65a3851c9f68f148d  2017-02-28   \n",
              "1  eac49beafd4485d9c564dc8fab576fb8  2014-10-29   \n",
              "2  c6f39599f1c5d67d491a86fa6bafb816  2013-08-31   \n",
              "3  900c1edf2ede90f385872938ce6f16c9  2014-07-04   \n",
              "4  8dab3f118616eb3f550a927f35533905  2015-02-09   \n",
              "\n",
              "                                    review_sentences  rating  has_spoiler  \\\n",
              "0  [[0, Not sure I'm going to write a full review...       4        False   \n",
              "1  [[0, Hooray this book is finally out!], [0, An...       4        False   \n",
              "2  [[0, I think I'm losing interest in NA.], [0, ...       0        False   \n",
              "3  [[0, This book features Michael, the man who d...       4         True   \n",
              "4  [[0, As with the first book in the Kitty Norvi...       5        False   \n",
              "\n",
              "    book_id                         review_id  \n",
              "0  28587986  e514962749c07da42f1390899687b4ad  \n",
              "1  15844362  138145607be0564b1695e17590348035  \n",
              "2  17571742  30b720179cdf157b904d06f038dfc8a2  \n",
              "3  22370569  bf1dc58672a2e92a66ae117100356566  \n",
              "4     14460  23cee20df1f02784af03f3af30ae21e9  "
            ],
            "text/html": [
              "\n",
              "  <div id=\"df-1ca04126-42a1-49da-9e70-0acd9cd6df3d\" class=\"colab-df-container\">\n",
              "    <div>\n",
              "<style scoped>\n",
              "    .dataframe tbody tr th:only-of-type {\n",
              "        vertical-align: middle;\n",
              "    }\n",
              "\n",
              "    .dataframe tbody tr th {\n",
              "        vertical-align: top;\n",
              "    }\n",
              "\n",
              "    .dataframe thead th {\n",
              "        text-align: right;\n",
              "    }\n",
              "</style>\n",
              "<table border=\"1\" class=\"dataframe\">\n",
              "  <thead>\n",
              "    <tr style=\"text-align: right;\">\n",
              "      <th></th>\n",
              "      <th>user_id</th>\n",
              "      <th>timestamp</th>\n",
              "      <th>review_sentences</th>\n",
              "      <th>rating</th>\n",
              "      <th>has_spoiler</th>\n",
              "      <th>book_id</th>\n",
              "      <th>review_id</th>\n",
              "    </tr>\n",
              "  </thead>\n",
              "  <tbody>\n",
              "    <tr>\n",
              "      <th>0</th>\n",
              "      <td>818a07d4b1a085d65a3851c9f68f148d</td>\n",
              "      <td>2017-02-28</td>\n",
              "      <td>[[0, Not sure I'm going to write a full review...</td>\n",
              "      <td>4</td>\n",
              "      <td>False</td>\n",
              "      <td>28587986</td>\n",
              "      <td>e514962749c07da42f1390899687b4ad</td>\n",
              "    </tr>\n",
              "    <tr>\n",
              "      <th>1</th>\n",
              "      <td>eac49beafd4485d9c564dc8fab576fb8</td>\n",
              "      <td>2014-10-29</td>\n",
              "      <td>[[0, Hooray this book is finally out!], [0, An...</td>\n",
              "      <td>4</td>\n",
              "      <td>False</td>\n",
              "      <td>15844362</td>\n",
              "      <td>138145607be0564b1695e17590348035</td>\n",
              "    </tr>\n",
              "    <tr>\n",
              "      <th>2</th>\n",
              "      <td>c6f39599f1c5d67d491a86fa6bafb816</td>\n",
              "      <td>2013-08-31</td>\n",
              "      <td>[[0, I think I'm losing interest in NA.], [0, ...</td>\n",
              "      <td>0</td>\n",
              "      <td>False</td>\n",
              "      <td>17571742</td>\n",
              "      <td>30b720179cdf157b904d06f038dfc8a2</td>\n",
              "    </tr>\n",
              "    <tr>\n",
              "      <th>3</th>\n",
              "      <td>900c1edf2ede90f385872938ce6f16c9</td>\n",
              "      <td>2014-07-04</td>\n",
              "      <td>[[0, This book features Michael, the man who d...</td>\n",
              "      <td>4</td>\n",
              "      <td>True</td>\n",
              "      <td>22370569</td>\n",
              "      <td>bf1dc58672a2e92a66ae117100356566</td>\n",
              "    </tr>\n",
              "    <tr>\n",
              "      <th>4</th>\n",
              "      <td>8dab3f118616eb3f550a927f35533905</td>\n",
              "      <td>2015-02-09</td>\n",
              "      <td>[[0, As with the first book in the Kitty Norvi...</td>\n",
              "      <td>5</td>\n",
              "      <td>False</td>\n",
              "      <td>14460</td>\n",
              "      <td>23cee20df1f02784af03f3af30ae21e9</td>\n",
              "    </tr>\n",
              "  </tbody>\n",
              "</table>\n",
              "</div>\n",
              "    <div class=\"colab-df-buttons\">\n",
              "\n",
              "  <div class=\"colab-df-container\">\n",
              "    <button class=\"colab-df-convert\" onclick=\"convertToInteractive('df-1ca04126-42a1-49da-9e70-0acd9cd6df3d')\"\n",
              "            title=\"Convert this dataframe to an interactive table.\"\n",
              "            style=\"display:none;\">\n",
              "\n",
              "  <svg xmlns=\"http://www.w3.org/2000/svg\" height=\"24px\" viewBox=\"0 -960 960 960\">\n",
              "    <path d=\"M120-120v-720h720v720H120Zm60-500h600v-160H180v160Zm220 220h160v-160H400v160Zm0 220h160v-160H400v160ZM180-400h160v-160H180v160Zm440 0h160v-160H620v160ZM180-180h160v-160H180v160Zm440 0h160v-160H620v160Z\"/>\n",
              "  </svg>\n",
              "    </button>\n",
              "\n",
              "  <style>\n",
              "    .colab-df-container {\n",
              "      display:flex;\n",
              "      gap: 12px;\n",
              "    }\n",
              "\n",
              "    .colab-df-convert {\n",
              "      background-color: #E8F0FE;\n",
              "      border: none;\n",
              "      border-radius: 50%;\n",
              "      cursor: pointer;\n",
              "      display: none;\n",
              "      fill: #1967D2;\n",
              "      height: 32px;\n",
              "      padding: 0 0 0 0;\n",
              "      width: 32px;\n",
              "    }\n",
              "\n",
              "    .colab-df-convert:hover {\n",
              "      background-color: #E2EBFA;\n",
              "      box-shadow: 0px 1px 2px rgba(60, 64, 67, 0.3), 0px 1px 3px 1px rgba(60, 64, 67, 0.15);\n",
              "      fill: #174EA6;\n",
              "    }\n",
              "\n",
              "    .colab-df-buttons div {\n",
              "      margin-bottom: 4px;\n",
              "    }\n",
              "\n",
              "    [theme=dark] .colab-df-convert {\n",
              "      background-color: #3B4455;\n",
              "      fill: #D2E3FC;\n",
              "    }\n",
              "\n",
              "    [theme=dark] .colab-df-convert:hover {\n",
              "      background-color: #434B5C;\n",
              "      box-shadow: 0px 1px 3px 1px rgba(0, 0, 0, 0.15);\n",
              "      filter: drop-shadow(0px 1px 2px rgba(0, 0, 0, 0.3));\n",
              "      fill: #FFFFFF;\n",
              "    }\n",
              "  </style>\n",
              "\n",
              "    <script>\n",
              "      const buttonEl =\n",
              "        document.querySelector('#df-1ca04126-42a1-49da-9e70-0acd9cd6df3d button.colab-df-convert');\n",
              "      buttonEl.style.display =\n",
              "        google.colab.kernel.accessAllowed ? 'block' : 'none';\n",
              "\n",
              "      async function convertToInteractive(key) {\n",
              "        const element = document.querySelector('#df-1ca04126-42a1-49da-9e70-0acd9cd6df3d');\n",
              "        const dataTable =\n",
              "          await google.colab.kernel.invokeFunction('convertToInteractive',\n",
              "                                                    [key], {});\n",
              "        if (!dataTable) return;\n",
              "\n",
              "        const docLinkHtml = 'Like what you see? Visit the ' +\n",
              "          '<a target=\"_blank\" href=https://colab.research.google.com/notebooks/data_table.ipynb>data table notebook</a>'\n",
              "          + ' to learn more about interactive tables.';\n",
              "        element.innerHTML = '';\n",
              "        dataTable['output_type'] = 'display_data';\n",
              "        await google.colab.output.renderOutput(dataTable, element);\n",
              "        const docLink = document.createElement('div');\n",
              "        docLink.innerHTML = docLinkHtml;\n",
              "        element.appendChild(docLink);\n",
              "      }\n",
              "    </script>\n",
              "  </div>\n",
              "\n",
              "\n",
              "<div id=\"df-3f1bf3ce-9e25-41d6-9323-cfa48e1d6626\">\n",
              "  <button class=\"colab-df-quickchart\" onclick=\"quickchart('df-3f1bf3ce-9e25-41d6-9323-cfa48e1d6626')\"\n",
              "            title=\"Suggest charts\"\n",
              "            style=\"display:none;\">\n",
              "\n",
              "<svg xmlns=\"http://www.w3.org/2000/svg\" height=\"24px\"viewBox=\"0 0 24 24\"\n",
              "     width=\"24px\">\n",
              "    <g>\n",
              "        <path d=\"M19 3H5c-1.1 0-2 .9-2 2v14c0 1.1.9 2 2 2h14c1.1 0 2-.9 2-2V5c0-1.1-.9-2-2-2zM9 17H7v-7h2v7zm4 0h-2V7h2v10zm4 0h-2v-4h2v4z\"/>\n",
              "    </g>\n",
              "</svg>\n",
              "  </button>\n",
              "\n",
              "<style>\n",
              "  .colab-df-quickchart {\n",
              "      --bg-color: #E8F0FE;\n",
              "      --fill-color: #1967D2;\n",
              "      --hover-bg-color: #E2EBFA;\n",
              "      --hover-fill-color: #174EA6;\n",
              "      --disabled-fill-color: #AAA;\n",
              "      --disabled-bg-color: #DDD;\n",
              "  }\n",
              "\n",
              "  [theme=dark] .colab-df-quickchart {\n",
              "      --bg-color: #3B4455;\n",
              "      --fill-color: #D2E3FC;\n",
              "      --hover-bg-color: #434B5C;\n",
              "      --hover-fill-color: #FFFFFF;\n",
              "      --disabled-bg-color: #3B4455;\n",
              "      --disabled-fill-color: #666;\n",
              "  }\n",
              "\n",
              "  .colab-df-quickchart {\n",
              "    background-color: var(--bg-color);\n",
              "    border: none;\n",
              "    border-radius: 50%;\n",
              "    cursor: pointer;\n",
              "    display: none;\n",
              "    fill: var(--fill-color);\n",
              "    height: 32px;\n",
              "    padding: 0;\n",
              "    width: 32px;\n",
              "  }\n",
              "\n",
              "  .colab-df-quickchart:hover {\n",
              "    background-color: var(--hover-bg-color);\n",
              "    box-shadow: 0 1px 2px rgba(60, 64, 67, 0.3), 0 1px 3px 1px rgba(60, 64, 67, 0.15);\n",
              "    fill: var(--button-hover-fill-color);\n",
              "  }\n",
              "\n",
              "  .colab-df-quickchart-complete:disabled,\n",
              "  .colab-df-quickchart-complete:disabled:hover {\n",
              "    background-color: var(--disabled-bg-color);\n",
              "    fill: var(--disabled-fill-color);\n",
              "    box-shadow: none;\n",
              "  }\n",
              "\n",
              "  .colab-df-spinner {\n",
              "    border: 2px solid var(--fill-color);\n",
              "    border-color: transparent;\n",
              "    border-bottom-color: var(--fill-color);\n",
              "    animation:\n",
              "      spin 1s steps(1) infinite;\n",
              "  }\n",
              "\n",
              "  @keyframes spin {\n",
              "    0% {\n",
              "      border-color: transparent;\n",
              "      border-bottom-color: var(--fill-color);\n",
              "      border-left-color: var(--fill-color);\n",
              "    }\n",
              "    20% {\n",
              "      border-color: transparent;\n",
              "      border-left-color: var(--fill-color);\n",
              "      border-top-color: var(--fill-color);\n",
              "    }\n",
              "    30% {\n",
              "      border-color: transparent;\n",
              "      border-left-color: var(--fill-color);\n",
              "      border-top-color: var(--fill-color);\n",
              "      border-right-color: var(--fill-color);\n",
              "    }\n",
              "    40% {\n",
              "      border-color: transparent;\n",
              "      border-right-color: var(--fill-color);\n",
              "      border-top-color: var(--fill-color);\n",
              "    }\n",
              "    60% {\n",
              "      border-color: transparent;\n",
              "      border-right-color: var(--fill-color);\n",
              "    }\n",
              "    80% {\n",
              "      border-color: transparent;\n",
              "      border-right-color: var(--fill-color);\n",
              "      border-bottom-color: var(--fill-color);\n",
              "    }\n",
              "    90% {\n",
              "      border-color: transparent;\n",
              "      border-bottom-color: var(--fill-color);\n",
              "    }\n",
              "  }\n",
              "</style>\n",
              "\n",
              "  <script>\n",
              "    async function quickchart(key) {\n",
              "      const quickchartButtonEl =\n",
              "        document.querySelector('#' + key + ' button');\n",
              "      quickchartButtonEl.disabled = true;  // To prevent multiple clicks.\n",
              "      quickchartButtonEl.classList.add('colab-df-spinner');\n",
              "      try {\n",
              "        const charts = await google.colab.kernel.invokeFunction(\n",
              "            'suggestCharts', [key], {});\n",
              "      } catch (error) {\n",
              "        console.error('Error during call to suggestCharts:', error);\n",
              "      }\n",
              "      quickchartButtonEl.classList.remove('colab-df-spinner');\n",
              "      quickchartButtonEl.classList.add('colab-df-quickchart-complete');\n",
              "    }\n",
              "    (() => {\n",
              "      let quickchartButtonEl =\n",
              "        document.querySelector('#df-3f1bf3ce-9e25-41d6-9323-cfa48e1d6626 button');\n",
              "      quickchartButtonEl.style.display =\n",
              "        google.colab.kernel.accessAllowed ? 'block' : 'none';\n",
              "    })();\n",
              "  </script>\n",
              "</div>\n",
              "\n",
              "    </div>\n",
              "  </div>\n"
            ],
            "application/vnd.google.colaboratory.intrinsic+json": {
              "type": "dataframe",
              "variable_name": "rand_test_df",
              "summary": "{\n  \"name\": \"rand_test_df\",\n  \"rows\": 68902,\n  \"fields\": [\n    {\n      \"column\": \"user_id\",\n      \"properties\": {\n        \"dtype\": \"category\",\n        \"num_unique_values\": 13688,\n        \"samples\": [\n          \"23ae83bd00aeb2a5a773a96fd4d4bed5\",\n          \"d5aa3ed0c803f7f88158bb2ff0406f91\",\n          \"7c71b73df2fac8a4106fa67775d8f369\"\n        ],\n        \"semantic_type\": \"\",\n        \"description\": \"\"\n      }\n    },\n    {\n      \"column\": \"timestamp\",\n      \"properties\": {\n        \"dtype\": \"object\",\n        \"num_unique_values\": 3490,\n        \"samples\": [\n          \"2016-09-24\",\n          \"2008-12-25\",\n          \"2008-07-28\"\n        ],\n        \"semantic_type\": \"\",\n        \"description\": \"\"\n      }\n    },\n    {\n      \"column\": \"review_sentences\",\n      \"properties\": {\n        \"dtype\": \"object\",\n        \"semantic_type\": \"\",\n        \"description\": \"\"\n      }\n    },\n    {\n      \"column\": \"rating\",\n      \"properties\": {\n        \"dtype\": \"number\",\n        \"std\": 1,\n        \"min\": 0,\n        \"max\": 5,\n        \"num_unique_values\": 6,\n        \"samples\": [\n          4,\n          0,\n          1\n        ],\n        \"semantic_type\": \"\",\n        \"description\": \"\"\n      }\n    },\n    {\n      \"column\": \"has_spoiler\",\n      \"properties\": {\n        \"dtype\": \"boolean\",\n        \"num_unique_values\": 2,\n        \"samples\": [\n          true,\n          false\n        ],\n        \"semantic_type\": \"\",\n        \"description\": \"\"\n      }\n    },\n    {\n      \"column\": \"book_id\",\n      \"properties\": {\n        \"dtype\": \"category\",\n        \"num_unique_values\": 18410,\n        \"samples\": [\n          \"18109771\",\n          \"780878\"\n        ],\n        \"semantic_type\": \"\",\n        \"description\": \"\"\n      }\n    },\n    {\n      \"column\": \"review_id\",\n      \"properties\": {\n        \"dtype\": \"string\",\n        \"num_unique_values\": 68902,\n        \"samples\": [\n          \"619e521b0ebc20720c37a2872646f274\",\n          \"f95d4e3b01a48a3ce753a7fb37b59097\"\n        ],\n        \"semantic_type\": \"\",\n        \"description\": \"\"\n      }\n    }\n  ]\n}"
            }
          },
          "metadata": {},
          "execution_count": 60
        }
      ]
    },
    {
      "cell_type": "code",
      "source": [
        "rand_df = pd.DataFrame(rand_train_data)\n",
        "rand_df.head()\n",
        "# rand_train_data[:5]\n"
      ],
      "metadata": {
        "colab": {
          "base_uri": "https://localhost:8080/",
          "height": 313
        },
        "id": "ai5Y0oIBVjst",
        "outputId": "4a84ca96-4554-40f5-f0bf-00b8de380162"
      },
      "execution_count": null,
      "outputs": [
        {
          "output_type": "execute_result",
          "data": {
            "text/plain": [
              "                            user_id   timestamp  \\\n",
              "0  983a47418edf1ee5697f876ca16c8403  2017-09-22   \n",
              "1  314e2b5c96368d8d3d92f10d451f85f1  2013-12-20   \n",
              "2  16df3e755aadb09f5abbe06fe06ce2d1  2017-01-11   \n",
              "3  34aa99d428ad98679c3e45d117243f55  2017-05-21   \n",
              "4  f070f1cc66d79485f12f9a185afb9413  2014-03-26   \n",
              "\n",
              "                                    review_sentences  rating  has_spoiler  \\\n",
              "0  [[0, 3.25 stars.], [0, I think I actually enjo...       3        False   \n",
              "1  [[0, 2+ stars], [0, I really liked the beginni...       2         True   \n",
              "2  [[0, 2.5 stars.], [0, Do NOT read the spoiler ...       3         True   \n",
              "3  [[0, Pleasantly surprised how much I enjoyed t...       4        False   \n",
              "4  [[0, http://openbooksociety.com/article/ha...]...       5        False   \n",
              "\n",
              "    book_id                         review_id  \n",
              "0  12727768  dd818013a2ef8e2fc33d3f812c93110b  \n",
              "1   5709572  d97220b61c241ecf2edbdfa7e5832197  \n",
              "2  11405641  ecac9a92cd1285e7e4f8cd13c2ed5ea4  \n",
              "3  27252717  689708f0d6abe9aed3c85ab38f242f52  \n",
              "4  17667009  4c595c11a5090dc7c79acca7440a0b8b  "
            ],
            "text/html": [
              "\n",
              "  <div id=\"df-44e6aba7-cf40-4edb-8602-df36f2cdb917\" class=\"colab-df-container\">\n",
              "    <div>\n",
              "<style scoped>\n",
              "    .dataframe tbody tr th:only-of-type {\n",
              "        vertical-align: middle;\n",
              "    }\n",
              "\n",
              "    .dataframe tbody tr th {\n",
              "        vertical-align: top;\n",
              "    }\n",
              "\n",
              "    .dataframe thead th {\n",
              "        text-align: right;\n",
              "    }\n",
              "</style>\n",
              "<table border=\"1\" class=\"dataframe\">\n",
              "  <thead>\n",
              "    <tr style=\"text-align: right;\">\n",
              "      <th></th>\n",
              "      <th>user_id</th>\n",
              "      <th>timestamp</th>\n",
              "      <th>review_sentences</th>\n",
              "      <th>rating</th>\n",
              "      <th>has_spoiler</th>\n",
              "      <th>book_id</th>\n",
              "      <th>review_id</th>\n",
              "    </tr>\n",
              "  </thead>\n",
              "  <tbody>\n",
              "    <tr>\n",
              "      <th>0</th>\n",
              "      <td>983a47418edf1ee5697f876ca16c8403</td>\n",
              "      <td>2017-09-22</td>\n",
              "      <td>[[0, 3.25 stars.], [0, I think I actually enjo...</td>\n",
              "      <td>3</td>\n",
              "      <td>False</td>\n",
              "      <td>12727768</td>\n",
              "      <td>dd818013a2ef8e2fc33d3f812c93110b</td>\n",
              "    </tr>\n",
              "    <tr>\n",
              "      <th>1</th>\n",
              "      <td>314e2b5c96368d8d3d92f10d451f85f1</td>\n",
              "      <td>2013-12-20</td>\n",
              "      <td>[[0, 2+ stars], [0, I really liked the beginni...</td>\n",
              "      <td>2</td>\n",
              "      <td>True</td>\n",
              "      <td>5709572</td>\n",
              "      <td>d97220b61c241ecf2edbdfa7e5832197</td>\n",
              "    </tr>\n",
              "    <tr>\n",
              "      <th>2</th>\n",
              "      <td>16df3e755aadb09f5abbe06fe06ce2d1</td>\n",
              "      <td>2017-01-11</td>\n",
              "      <td>[[0, 2.5 stars.], [0, Do NOT read the spoiler ...</td>\n",
              "      <td>3</td>\n",
              "      <td>True</td>\n",
              "      <td>11405641</td>\n",
              "      <td>ecac9a92cd1285e7e4f8cd13c2ed5ea4</td>\n",
              "    </tr>\n",
              "    <tr>\n",
              "      <th>3</th>\n",
              "      <td>34aa99d428ad98679c3e45d117243f55</td>\n",
              "      <td>2017-05-21</td>\n",
              "      <td>[[0, Pleasantly surprised how much I enjoyed t...</td>\n",
              "      <td>4</td>\n",
              "      <td>False</td>\n",
              "      <td>27252717</td>\n",
              "      <td>689708f0d6abe9aed3c85ab38f242f52</td>\n",
              "    </tr>\n",
              "    <tr>\n",
              "      <th>4</th>\n",
              "      <td>f070f1cc66d79485f12f9a185afb9413</td>\n",
              "      <td>2014-03-26</td>\n",
              "      <td>[[0, http://openbooksociety.com/article/ha...]...</td>\n",
              "      <td>5</td>\n",
              "      <td>False</td>\n",
              "      <td>17667009</td>\n",
              "      <td>4c595c11a5090dc7c79acca7440a0b8b</td>\n",
              "    </tr>\n",
              "  </tbody>\n",
              "</table>\n",
              "</div>\n",
              "    <div class=\"colab-df-buttons\">\n",
              "\n",
              "  <div class=\"colab-df-container\">\n",
              "    <button class=\"colab-df-convert\" onclick=\"convertToInteractive('df-44e6aba7-cf40-4edb-8602-df36f2cdb917')\"\n",
              "            title=\"Convert this dataframe to an interactive table.\"\n",
              "            style=\"display:none;\">\n",
              "\n",
              "  <svg xmlns=\"http://www.w3.org/2000/svg\" height=\"24px\" viewBox=\"0 -960 960 960\">\n",
              "    <path d=\"M120-120v-720h720v720H120Zm60-500h600v-160H180v160Zm220 220h160v-160H400v160Zm0 220h160v-160H400v160ZM180-400h160v-160H180v160Zm440 0h160v-160H620v160ZM180-180h160v-160H180v160Zm440 0h160v-160H620v160Z\"/>\n",
              "  </svg>\n",
              "    </button>\n",
              "\n",
              "  <style>\n",
              "    .colab-df-container {\n",
              "      display:flex;\n",
              "      gap: 12px;\n",
              "    }\n",
              "\n",
              "    .colab-df-convert {\n",
              "      background-color: #E8F0FE;\n",
              "      border: none;\n",
              "      border-radius: 50%;\n",
              "      cursor: pointer;\n",
              "      display: none;\n",
              "      fill: #1967D2;\n",
              "      height: 32px;\n",
              "      padding: 0 0 0 0;\n",
              "      width: 32px;\n",
              "    }\n",
              "\n",
              "    .colab-df-convert:hover {\n",
              "      background-color: #E2EBFA;\n",
              "      box-shadow: 0px 1px 2px rgba(60, 64, 67, 0.3), 0px 1px 3px 1px rgba(60, 64, 67, 0.15);\n",
              "      fill: #174EA6;\n",
              "    }\n",
              "\n",
              "    .colab-df-buttons div {\n",
              "      margin-bottom: 4px;\n",
              "    }\n",
              "\n",
              "    [theme=dark] .colab-df-convert {\n",
              "      background-color: #3B4455;\n",
              "      fill: #D2E3FC;\n",
              "    }\n",
              "\n",
              "    [theme=dark] .colab-df-convert:hover {\n",
              "      background-color: #434B5C;\n",
              "      box-shadow: 0px 1px 3px 1px rgba(0, 0, 0, 0.15);\n",
              "      filter: drop-shadow(0px 1px 2px rgba(0, 0, 0, 0.3));\n",
              "      fill: #FFFFFF;\n",
              "    }\n",
              "  </style>\n",
              "\n",
              "    <script>\n",
              "      const buttonEl =\n",
              "        document.querySelector('#df-44e6aba7-cf40-4edb-8602-df36f2cdb917 button.colab-df-convert');\n",
              "      buttonEl.style.display =\n",
              "        google.colab.kernel.accessAllowed ? 'block' : 'none';\n",
              "\n",
              "      async function convertToInteractive(key) {\n",
              "        const element = document.querySelector('#df-44e6aba7-cf40-4edb-8602-df36f2cdb917');\n",
              "        const dataTable =\n",
              "          await google.colab.kernel.invokeFunction('convertToInteractive',\n",
              "                                                    [key], {});\n",
              "        if (!dataTable) return;\n",
              "\n",
              "        const docLinkHtml = 'Like what you see? Visit the ' +\n",
              "          '<a target=\"_blank\" href=https://colab.research.google.com/notebooks/data_table.ipynb>data table notebook</a>'\n",
              "          + ' to learn more about interactive tables.';\n",
              "        element.innerHTML = '';\n",
              "        dataTable['output_type'] = 'display_data';\n",
              "        await google.colab.output.renderOutput(dataTable, element);\n",
              "        const docLink = document.createElement('div');\n",
              "        docLink.innerHTML = docLinkHtml;\n",
              "        element.appendChild(docLink);\n",
              "      }\n",
              "    </script>\n",
              "  </div>\n",
              "\n",
              "\n",
              "<div id=\"df-5648cbd1-61e3-46ce-a665-aa7d05db6ea3\">\n",
              "  <button class=\"colab-df-quickchart\" onclick=\"quickchart('df-5648cbd1-61e3-46ce-a665-aa7d05db6ea3')\"\n",
              "            title=\"Suggest charts\"\n",
              "            style=\"display:none;\">\n",
              "\n",
              "<svg xmlns=\"http://www.w3.org/2000/svg\" height=\"24px\"viewBox=\"0 0 24 24\"\n",
              "     width=\"24px\">\n",
              "    <g>\n",
              "        <path d=\"M19 3H5c-1.1 0-2 .9-2 2v14c0 1.1.9 2 2 2h14c1.1 0 2-.9 2-2V5c0-1.1-.9-2-2-2zM9 17H7v-7h2v7zm4 0h-2V7h2v10zm4 0h-2v-4h2v4z\"/>\n",
              "    </g>\n",
              "</svg>\n",
              "  </button>\n",
              "\n",
              "<style>\n",
              "  .colab-df-quickchart {\n",
              "      --bg-color: #E8F0FE;\n",
              "      --fill-color: #1967D2;\n",
              "      --hover-bg-color: #E2EBFA;\n",
              "      --hover-fill-color: #174EA6;\n",
              "      --disabled-fill-color: #AAA;\n",
              "      --disabled-bg-color: #DDD;\n",
              "  }\n",
              "\n",
              "  [theme=dark] .colab-df-quickchart {\n",
              "      --bg-color: #3B4455;\n",
              "      --fill-color: #D2E3FC;\n",
              "      --hover-bg-color: #434B5C;\n",
              "      --hover-fill-color: #FFFFFF;\n",
              "      --disabled-bg-color: #3B4455;\n",
              "      --disabled-fill-color: #666;\n",
              "  }\n",
              "\n",
              "  .colab-df-quickchart {\n",
              "    background-color: var(--bg-color);\n",
              "    border: none;\n",
              "    border-radius: 50%;\n",
              "    cursor: pointer;\n",
              "    display: none;\n",
              "    fill: var(--fill-color);\n",
              "    height: 32px;\n",
              "    padding: 0;\n",
              "    width: 32px;\n",
              "  }\n",
              "\n",
              "  .colab-df-quickchart:hover {\n",
              "    background-color: var(--hover-bg-color);\n",
              "    box-shadow: 0 1px 2px rgba(60, 64, 67, 0.3), 0 1px 3px 1px rgba(60, 64, 67, 0.15);\n",
              "    fill: var(--button-hover-fill-color);\n",
              "  }\n",
              "\n",
              "  .colab-df-quickchart-complete:disabled,\n",
              "  .colab-df-quickchart-complete:disabled:hover {\n",
              "    background-color: var(--disabled-bg-color);\n",
              "    fill: var(--disabled-fill-color);\n",
              "    box-shadow: none;\n",
              "  }\n",
              "\n",
              "  .colab-df-spinner {\n",
              "    border: 2px solid var(--fill-color);\n",
              "    border-color: transparent;\n",
              "    border-bottom-color: var(--fill-color);\n",
              "    animation:\n",
              "      spin 1s steps(1) infinite;\n",
              "  }\n",
              "\n",
              "  @keyframes spin {\n",
              "    0% {\n",
              "      border-color: transparent;\n",
              "      border-bottom-color: var(--fill-color);\n",
              "      border-left-color: var(--fill-color);\n",
              "    }\n",
              "    20% {\n",
              "      border-color: transparent;\n",
              "      border-left-color: var(--fill-color);\n",
              "      border-top-color: var(--fill-color);\n",
              "    }\n",
              "    30% {\n",
              "      border-color: transparent;\n",
              "      border-left-color: var(--fill-color);\n",
              "      border-top-color: var(--fill-color);\n",
              "      border-right-color: var(--fill-color);\n",
              "    }\n",
              "    40% {\n",
              "      border-color: transparent;\n",
              "      border-right-color: var(--fill-color);\n",
              "      border-top-color: var(--fill-color);\n",
              "    }\n",
              "    60% {\n",
              "      border-color: transparent;\n",
              "      border-right-color: var(--fill-color);\n",
              "    }\n",
              "    80% {\n",
              "      border-color: transparent;\n",
              "      border-right-color: var(--fill-color);\n",
              "      border-bottom-color: var(--fill-color);\n",
              "    }\n",
              "    90% {\n",
              "      border-color: transparent;\n",
              "      border-bottom-color: var(--fill-color);\n",
              "    }\n",
              "  }\n",
              "</style>\n",
              "\n",
              "  <script>\n",
              "    async function quickchart(key) {\n",
              "      const quickchartButtonEl =\n",
              "        document.querySelector('#' + key + ' button');\n",
              "      quickchartButtonEl.disabled = true;  // To prevent multiple clicks.\n",
              "      quickchartButtonEl.classList.add('colab-df-spinner');\n",
              "      try {\n",
              "        const charts = await google.colab.kernel.invokeFunction(\n",
              "            'suggestCharts', [key], {});\n",
              "      } catch (error) {\n",
              "        console.error('Error during call to suggestCharts:', error);\n",
              "      }\n",
              "      quickchartButtonEl.classList.remove('colab-df-spinner');\n",
              "      quickchartButtonEl.classList.add('colab-df-quickchart-complete');\n",
              "    }\n",
              "    (() => {\n",
              "      let quickchartButtonEl =\n",
              "        document.querySelector('#df-5648cbd1-61e3-46ce-a665-aa7d05db6ea3 button');\n",
              "      quickchartButtonEl.style.display =\n",
              "        google.colab.kernel.accessAllowed ? 'block' : 'none';\n",
              "    })();\n",
              "  </script>\n",
              "</div>\n",
              "\n",
              "    </div>\n",
              "  </div>\n"
            ],
            "application/vnd.google.colaboratory.intrinsic+json": {
              "type": "dataframe",
              "summary": "{\n  \"name\": \"# rand_train_data[:5]\",\n  \"rows\": 5,\n  \"fields\": [\n    {\n      \"column\": \"user_id\",\n      \"properties\": {\n        \"dtype\": \"string\",\n        \"num_unique_values\": 5,\n        \"samples\": [\n          \"314e2b5c96368d8d3d92f10d451f85f1\",\n          \"f070f1cc66d79485f12f9a185afb9413\",\n          \"16df3e755aadb09f5abbe06fe06ce2d1\"\n        ],\n        \"semantic_type\": \"\",\n        \"description\": \"\"\n      }\n    },\n    {\n      \"column\": \"timestamp\",\n      \"properties\": {\n        \"dtype\": \"object\",\n        \"num_unique_values\": 5,\n        \"samples\": [\n          \"2013-12-20\",\n          \"2014-03-26\",\n          \"2017-01-11\"\n        ],\n        \"semantic_type\": \"\",\n        \"description\": \"\"\n      }\n    },\n    {\n      \"column\": \"review_sentences\",\n      \"properties\": {\n        \"dtype\": \"object\",\n        \"semantic_type\": \"\",\n        \"description\": \"\"\n      }\n    },\n    {\n      \"column\": \"rating\",\n      \"properties\": {\n        \"dtype\": \"number\",\n        \"std\": 1,\n        \"min\": 2,\n        \"max\": 5,\n        \"num_unique_values\": 4,\n        \"samples\": [\n          2,\n          5,\n          3\n        ],\n        \"semantic_type\": \"\",\n        \"description\": \"\"\n      }\n    },\n    {\n      \"column\": \"has_spoiler\",\n      \"properties\": {\n        \"dtype\": \"boolean\",\n        \"num_unique_values\": 2,\n        \"samples\": [\n          true,\n          false\n        ],\n        \"semantic_type\": \"\",\n        \"description\": \"\"\n      }\n    },\n    {\n      \"column\": \"book_id\",\n      \"properties\": {\n        \"dtype\": \"string\",\n        \"num_unique_values\": 5,\n        \"samples\": [\n          \"5709572\",\n          \"17667009\"\n        ],\n        \"semantic_type\": \"\",\n        \"description\": \"\"\n      }\n    },\n    {\n      \"column\": \"review_id\",\n      \"properties\": {\n        \"dtype\": \"string\",\n        \"num_unique_values\": 5,\n        \"samples\": [\n          \"d97220b61c241ecf2edbdfa7e5832197\",\n          \"4c595c11a5090dc7c79acca7440a0b8b\"\n        ],\n        \"semantic_type\": \"\",\n        \"description\": \"\"\n      }\n    }\n  ]\n}"
            }
          },
          "metadata": {},
          "execution_count": 61
        }
      ]
    },
    {
      "cell_type": "code",
      "source": [
        "#################################################\n",
        "# Dataset Exploration                           #\n",
        "#################################################"
      ],
      "metadata": {
        "id": "qrNnqH2faGz_"
      },
      "execution_count": null,
      "outputs": []
    },
    {
      "cell_type": "code",
      "source": [
        "user_review_stats = train_df.groupby(\"user_id\").agg(\n",
        "    num_spoiler=(\"has_spoiler\", lambda x: x.sum()),\n",
        "    num_non_spoiler=(\"has_spoiler\", lambda x: (~x).sum()),\n",
        "    total_reviews=(\"has_spoiler\", \"size\")\n",
        ")\n",
        "\n",
        "print(user_review_stats)\n",
        "if 'has_spoiler' in train_df.columns and 'rating' in train_df.columns:\n",
        "    # Calculate mean review rating for spoiler and non-spoiler reviews\n",
        "    mean_spoiler_rating = train_df[train_df['has_spoiler']]['rating'].mean()\n",
        "    mean_non_spoiler_rating = train_df[~train_df['has_spoiler']]['rating'].mean()\n",
        "\n",
        "def mean_sentence_length(review_sentences):\n",
        "    sentence_lengths = [len(sentence[1]) for sentence in review_sentences]\n",
        "    return sum(sentence_lengths) / len(sentence_lengths) if sentence_lengths else 0\n",
        "\n",
        "train_df['mean_sentence_length'] = train_df['review_sentences'].apply(mean_sentence_length)\n",
        "\n",
        "mean_length_spoilers = train_df[train_df['has_spoiler']]['mean_sentence_length'].mean()\n",
        "mean_length_non_spoilers = train_df[~train_df['has_spoiler']]['mean_sentence_length'].mean()"
      ],
      "metadata": {
        "id": "38G6SAnZTCbv"
      },
      "execution_count": null,
      "outputs": []
    },
    {
      "cell_type": "code",
      "source": [
        "## Spoilers vs Non-Spoilers in Dataset\n",
        "fig, ax = plt.subplots(figsize=(10, 6))\n",
        "num_spoilers = np.sum([1 for review in all_data if review['has_spoiler']])\n",
        "num_non_spoilers = np.sum(1 for review in all_data if not review['has_spoiler'])\n",
        "ax.bar(\"spoilers\", num_spoilers, label='Spoiler Reviews', color='red')\n",
        "ax.bar(\"non-spoilers\", num_non_spoilers, label='Non-Spoiler Reviews', color='blue')\n",
        "\n",
        "ax.set_xlabel('Review Type')\n",
        "ax.set_ylabel('Number of Reviews')\n",
        "ax.set_title('Spoilers vs Non-Spoilers in Full Dataset')\n",
        "ax.legend()"
      ],
      "metadata": {
        "colab": {
          "base_uri": "https://localhost:8080/",
          "height": 611
        },
        "id": "zRpOThOnCBvc",
        "outputId": "e01614fd-4b4a-4dfb-d724-a5ffeaf38dbb"
      },
      "execution_count": null,
      "outputs": [
        {
          "output_type": "stream",
          "name": "stderr",
          "text": [
            "<ipython-input-10-e2b94bc562b6>:4: DeprecationWarning: Calling np.sum(generator) is deprecated, and in the future will give a different result. Use np.sum(np.fromiter(generator)) or the python sum builtin instead.\n",
            "  num_non_spoilers = np.sum(1 for review in all_data if not review['has_spoiler'])\n"
          ]
        },
        {
          "output_type": "execute_result",
          "data": {
            "text/plain": [
              "<matplotlib.legend.Legend at 0x7853409a1a50>"
            ]
          },
          "metadata": {},
          "execution_count": 10
        },
        {
          "output_type": "display_data",
          "data": {
            "text/plain": [
              "<Figure size 1000x600 with 1 Axes>"
            ],
            "image/png": "[encoded data removed]"
          },
          "metadata": {}
        }
      ]
    },
    {
      "cell_type": "code",
      "source": [
        "#Data Exploration printing\n",
        "print(\"Number of spoilers in Training set\", numSpoilerTrain )\n",
        "print(\"Number of non spoilers in Training set\", numNonSpoilerTrain )\n",
        "print(f\"Mean Review Rating for Spoilers: {mean_spoiler_rating}\")\n",
        "print(f\"Mean Review Rating for Non-Spoilers: {mean_non_spoiler_rating}\")\n",
        "print(f\"Mean sentence length for spoiler reviews: {mean_length_spoilers}\")\n",
        "print(f\"Mean sentence length for non-spoiler reviews: {mean_length_non_spoilers}\")\n"
      ],
      "metadata": {
        "id": "AqcFJR-iTDvN"
      },
      "execution_count": null,
      "outputs": []
    },
    {
      "cell_type": "code",
      "source": [
        "# Spoilers by Users\n",
        "sampled_users = user_review_stats.sample(50, random_state=2) #50 random users\n",
        "\n",
        "users = sampled_users.index\n",
        "spoiler_counts = sampled_users['num_spoiler']\n",
        "non_spoiler_counts = sampled_users['num_non_spoiler']\n",
        "\n",
        "x = np.arange(len(users))\n",
        "width = 0.35\n",
        "\n",
        "fig, ax = plt.subplots(figsize=(10, 6))\n",
        "ax.bar(users, spoiler_counts, label='Spoiler Reviews', color='red')\n",
        "ax.bar(users, non_spoiler_counts, bottom=spoiler_counts, label='Non-Spoiler Reviews', color='blue')\n",
        "\n",
        "ax.set_xlabel('Users')\n",
        "ax.set_ylabel('Number of Reviews')\n",
        "ax.set_title('Total Reviews by User')\n",
        "ax.legend()\n",
        "plt.xticks(rotation=45, ha=\"right\")\n",
        "\n",
        "plt.tight_layout()\n",
        "plt.show()"
      ],
      "metadata": {
        "id": "JLrMX672TGIs"
      },
      "execution_count": null,
      "outputs": []
    },
    {
      "cell_type": "code",
      "source": [
        "# Spoilers by Books\n",
        "book_review_stats = (\n",
        "    train_df.groupby('book_id')\n",
        "    .agg(num_spoiler=('has_spoiler', lambda x: sum(x == True)),\n",
        "         num_non_spoiler=('has_spoiler', lambda x: sum(x == False)))\n",
        ")\n",
        "\n",
        "\n",
        "sampled_books = book_review_stats.sample(50, random_state=2) #50 random books\n",
        "\n",
        "books = sampled_books.index\n",
        "spoiler_counts = sampled_books['num_spoiler']\n",
        "non_spoiler_counts = sampled_books['num_non_spoiler']\n",
        "\n",
        "x = np.arange(len(books))\n",
        "width = 0.35\n",
        "\n",
        "fig, ax = plt.subplots(figsize=(12, 6))\n",
        "ax.bar(books, spoiler_counts, label='Spoiler Reviews', color='red')\n",
        "ax.bar(books, non_spoiler_counts, bottom=spoiler_counts, label='Non-Spoiler Reviews', color='blue')\n",
        "\n",
        "ax.set_xlabel('Books')\n",
        "ax.set_ylabel('Number of Reviews')\n",
        "ax.set_title('Total Reviews by Book')\n",
        "ax.legend()\n",
        "plt.xticks(rotation=45, ha=\"right\")\n",
        "\n",
        "plt.tight_layout()\n",
        "plt.show()"
      ],
      "metadata": {
        "id": "d7Ojel7PTKap"
      },
      "execution_count": null,
      "outputs": []
    },
    {
      "cell_type": "code",
      "source": [
        "#################################################\n",
        "# Baseline Model                                #\n",
        "#################################################"
      ],
      "metadata": {
        "id": "RyjAn5XhaKIh"
      },
      "execution_count": null,
      "outputs": []
    },
    {
      "cell_type": "code",
      "source": [
        "# Test set from actual data distribution\n",
        "randTestY = [d['has_spoiler'] for d in rand_test_data]\n",
        "# Test set for equal amount of spoilers and non-spoilers\n",
        "testY = [d['has_spoiler'] for d in testData]"
      ],
      "metadata": {
        "id": "NpO7pb2GbBt-"
      },
      "execution_count": null,
      "outputs": []
    },
    {
      "cell_type": "code",
      "source": [
        "# predict false always\n",
        "pred = []\n",
        "for review in rand_test_data:\n",
        "  pred.append(False)\n",
        "accuracy = accuracy_score(randTestY, pred)\n",
        "print(\"Accuracy:\", accuracy)"
      ],
      "metadata": {
        "colab": {
          "base_uri": "https://localhost:8080/"
        },
        "id": "69lHxbXEjtdj",
        "outputId": "a8044ea4-2352-4289-d0dd-1af02b58c83e"
      },
      "execution_count": null,
      "outputs": [
        {
          "output_type": "stream",
          "name": "stdout",
          "text": [
            "Accuracy: 0.9346027691503875\n"
          ]
        }
      ]
    },
    {
      "cell_type": "code",
      "source": [
        "pred = []\n",
        "for review in testData:\n",
        "  pred.append(False)\n",
        "accuracy = accuracy_score(testY, pred)\n",
        "print(\"Accuracy:\", accuracy)"
      ],
      "metadata": {
        "colab": {
          "base_uri": "https://localhost:8080/"
        },
        "id": "Zi6diJHHj0f_",
        "outputId": "6ddbf376-c72c-4e67-95ca-62986730c5e7"
      },
      "execution_count": null,
      "outputs": [
        {
          "output_type": "stream",
          "name": "stdout",
          "text": [
            "Accuracy: 0.5\n"
          ]
        }
      ]
    },
    {
      "cell_type": "code",
      "source": [
        "#################################################\n",
        "# Ranking Books Based on Num of Spoilers        #\n",
        "#################################################"
      ],
      "metadata": {
        "id": "-MYm96fCfokd"
      },
      "execution_count": null,
      "outputs": []
    },
    {
      "cell_type": "code",
      "source": [
        "books = [d['book_id'] for d in rand_train_data]\n",
        "books = set(books)\n",
        "books = list(books)\n",
        "spoilerReviewsPerBook = {d: [] for d in books}\n",
        "for review in rand_train_data:\n",
        "  if(review['has_spoiler']):\n",
        "    spoilerReviewsPerBook[review['book_id']].append(review)\n",
        "\n",
        "books = set(books)\n",
        "books = list(books)\n",
        "sorted_spoilersPerBook = sorted(spoilerReviewsPerBook.items(), key=lambda x: len(x[1]), reverse=True)\n",
        "for book, spoilers in sorted_spoilersPerBook[:10]:\n",
        "  print(f\"Book ID: {book}, Number of Spoiler Sentences: {len(spoilers)}\")\n",
        "totalSpoilers = np.sum([len(spoilers) for _, spoilers in sorted_spoilersPerBook])\n",
        "print(f\"Total number of spoilers: {totalSpoilers}\")\n",
        "\n",
        "mostSpoiledBooks = []\n",
        "spoilersCount = 0;\n",
        "for book, spoilers in sorted_spoilersPerBook[-10:]:\n",
        "  if(spoilersCount > totalSpoilers/2):\n",
        "    break\n",
        "  mostSpoiledBooks.append(book)\n",
        "  spoilersCount += len(spoilers)\n",
        "print(mostSpoiledBooks)\n",
        "\n",
        "## predict\n",
        "pred = []\n",
        "for review in testData:\n",
        "  if(review['book_id'] in mostSpoiledBooks):\n",
        "    pred.append(True)\n",
        "  else:\n",
        "    pred.append(False)\n",
        "accuracy = accuracy_score(testY, pred)\n",
        "print(\"Accuracy:\", accuracy)\n",
        "\n",
        "pred = []\n",
        "for review in rand_test_data:\n",
        "  if(review['book_id'] in mostSpoiledBooks):\n",
        "    pred.append(True)\n",
        "  else:\n",
        "    pred.append(False)\n",
        "accuracy = accuracy_score(randTestY, pred)\n",
        "print(\"Accuracy:\", accuracy)"
      ],
      "metadata": {
        "colab": {
          "base_uri": "https://localhost:8080/"
        },
        "id": "73GI0G0NMOWm",
        "outputId": "6ee39cb1-0a98-4317-be4b-6a12760a8621"
      },
      "execution_count": null,
      "outputs": [
        {
          "output_type": "stream",
          "name": "stdout",
          "text": [
            "Book ID: 29056083, Number of Spoiler Sentences: 27\n",
            "Book ID: 16096824, Number of Spoiler Sentences: 25\n",
            "Book ID: 7260188, Number of Spoiler Sentences: 24\n",
            "Book ID: 17927395, Number of Spoiler Sentences: 23\n",
            "Book ID: 11870085, Number of Spoiler Sentences: 17\n",
            "Book ID: 18692431, Number of Spoiler Sentences: 16\n",
            "Book ID: 13206900, Number of Spoiler Sentences: 16\n",
            "Book ID: 17347389, Number of Spoiler Sentences: 16\n",
            "Book ID: 17383918, Number of Spoiler Sentences: 15\n",
            "Book ID: 8755785, Number of Spoiler Sentences: 14\n",
            "Total number of spoilers: 8630\n",
            "['18046837', '31189134', '13484226', '23228', '17689281', '25223500', '107778', '11413298', '15814555', '49353']\n",
            "Accuracy: 0.5\n",
            "Accuracy: 0.9344866622159008\n"
          ]
        }
      ]
    },
    {
      "cell_type": "code",
      "source": [
        "books = [d['book_id'] for d in trainData]\n",
        "books = set(books)\n",
        "books = list(books)\n",
        "spoilerReviewsPerBook = {d: [] for d in books}\n",
        "for review in trainData:\n",
        "  if(review['has_spoiler']):\n",
        "    spoilerReviewsPerBook[review['book_id']].append(review)"
      ],
      "metadata": {
        "id": "gYLSDnfZn-I7"
      },
      "execution_count": null,
      "outputs": []
    },
    {
      "cell_type": "code",
      "source": [
        "books = set(books)\n",
        "books = list(books)\n",
        "sorted_spoilersPerBook = sorted(spoilerReviewsPerBook.items(), key=lambda x: len(x[1]), reverse=True)\n",
        "for book, spoilers in sorted_spoilersPerBook[:10]:\n",
        "  print(f\"Book ID: {book}, Number of Spoiler Sentences: {len(spoilers)}\")\n",
        "totalSpoilers = np.sum([len(spoilers) for _, spoilers in sorted_spoilersPerBook])\n",
        "print(f\"Total number of spoilers: {totalSpoilers}\")\n"
      ],
      "metadata": {
        "id": "vOn88qODmLJ8",
        "colab": {
          "base_uri": "https://localhost:8080/"
        },
        "outputId": "78e9ccdc-d52d-4377-d059-a89961ac5d3e"
      },
      "execution_count": null,
      "outputs": [
        {
          "output_type": "stream",
          "name": "stdout",
          "text": [
            "Book ID: 29056083, Number of Spoiler Sentences: 80\n",
            "Book ID: 16096824, Number of Spoiler Sentences: 49\n",
            "Book ID: 7260188, Number of Spoiler Sentences: 47\n",
            "Book ID: 17927395, Number of Spoiler Sentences: 41\n",
            "Book ID: 11235712, Number of Spoiler Sentences: 39\n",
            "Book ID: 18692431, Number of Spoiler Sentences: 39\n",
            "Book ID: 11870085, Number of Spoiler Sentences: 35\n",
            "Book ID: 9460487, Number of Spoiler Sentences: 34\n",
            "Book ID: 18710190, Number of Spoiler Sentences: 33\n",
            "Book ID: 14061957, Number of Spoiler Sentences: 32\n",
            "Total number of spoilers: 20000\n"
          ]
        }
      ]
    },
    {
      "cell_type": "code",
      "source": [
        "## the books that account for 50% of spoiler reviews are considered \"most spoiled\"\n",
        "mostSpoiledBooks = []\n",
        "spoilersCount = 0;\n",
        "for book, spoilers in sorted_spoilersPerBook[-10:]:\n",
        "  if(spoilersCount > totalSpoilers/2):\n",
        "    break\n",
        "  mostSpoiledBooks.append(book)\n",
        "  spoilersCount += len(spoilers)\n",
        "print(mostSpoiledBooks)"
      ],
      "metadata": {
        "id": "C4h2mmDDoBVg",
        "colab": {
          "base_uri": "https://localhost:8080/"
        },
        "outputId": "10d45a31-0af0-486e-b7d9-55c089e1337e"
      },
      "execution_count": null,
      "outputs": [
        {
          "output_type": "stream",
          "name": "stdout",
          "text": [
            "['6648020', '16309962', '8103107', '12628816', '49353', '2722413', '2924362', '23308148', '6314763', '15776704']\n"
          ]
        }
      ]
    },
    {
      "cell_type": "code",
      "source": [
        "# predict true if book is in mostSpoiledBooks\n",
        "pred = []\n",
        "for review in testData:\n",
        "  if(review['book_id'] in mostSpoiledBooks):\n",
        "    pred.append(True)\n",
        "  else:\n",
        "    pred.append(False)\n",
        "accuracy = accuracy_score(testY, pred)\n",
        "print(\"Accuracy:\", accuracy)\n",
        "\n",
        "pred = []\n",
        "for review in rand_test_data:\n",
        "  if(review['book_id'] in mostSpoiledBooks):\n",
        "    pred.append(True)\n",
        "  else:\n",
        "    pred.append(False)\n",
        "accuracy = accuracy_score(randTestY, pred)\n",
        "print(\"Accuracy:\", accuracy)"
      ],
      "metadata": {
        "id": "HZhgvv6tqTTl",
        "colab": {
          "base_uri": "https://localhost:8080/"
        },
        "outputId": "1dcdee53-f7ac-4bed-b075-114205d0db90"
      },
      "execution_count": null,
      "outputs": [
        {
          "output_type": "stream",
          "name": "stdout",
          "text": [
            "Accuracy: 0.4996\n",
            "Accuracy: 0.9340657745783867\n"
          ]
        }
      ]
    },
    {
      "cell_type": "code",
      "source": [
        "pred = []\n",
        "for review in testData:\n",
        "  if(review['book_id'] in mostSpoiledBooks):\n",
        "    pred.append(True)\n",
        "  else:\n",
        "    pred.append(False)\n",
        "accuracy = accuracy_score(testY, pred)\n",
        "print(\"Accuracy:\", accuracy)"
      ],
      "metadata": {
        "id": "6u1PR8T9p6dW",
        "colab": {
          "base_uri": "https://localhost:8080/"
        },
        "outputId": "e495063e-0ad0-49a1-b6c3-0f4442cf1cb8"
      },
      "execution_count": null,
      "outputs": [
        {
          "output_type": "stream",
          "name": "stdout",
          "text": [
            "Accuracy: 0.5\n"
          ]
        }
      ]
    },
    {
      "cell_type": "code",
      "source": [
        "#################################################\n",
        "# Spoilers Per Book                             #\n",
        "#################################################"
      ],
      "metadata": {
        "id": "eugrXzo0ehZ_"
      },
      "execution_count": null,
      "outputs": []
    },
    {
      "cell_type": "code",
      "source": [
        "books = [d['book_id'] for d in rand_train_data]\n",
        "books = set(books)\n",
        "books = list(books)\n",
        "spoilersPerBook = {d: 0 for d in books}\n",
        "reviewsPerBook = {d: [] for d in books}\n",
        "for review in rand_train_data:\n",
        "  if(review['has_spoiler']):\n",
        "    spoilersPerBook[review['book_id']] += 1\n",
        "  reviewsPerBook[review['book_id']].append(review)\n",
        "for book in books:\n",
        "  spoilersPerBook[book] = spoilersPerBook[book] / len(reviewsPerBook[book])\n",
        "\n",
        "# predict\n",
        "testY = [d['has_spoiler'] for d in testData]\n",
        "pred = []\n",
        "for review in testData:\n",
        "  if(review['book_id'] in books):\n",
        "    pred.append(spoilersPerBook[review['book_id']] >= 0.5)\n",
        "  else:\n",
        "    pred.append(False)\n",
        "accuracy = accuracy_score(testY, pred)\n",
        "print(\"Validation Accuracy:\", accuracy)\n",
        "\n",
        "# predict\n",
        "\n",
        "pred = []\n",
        "for review in rand_test_data:\n",
        "  if(review['book_id'] in books):\n",
        "    pred.append(spoilersPerBook[review['book_id']] >= 0.5)\n",
        "  else:\n",
        "    pred.append(False)\n",
        "\n",
        "randTestY = [d['has_spoiler'] for d in rand_test_data]\n",
        "accuracy = accuracy_score(randTestY, pred)\n",
        "print(\"Test Accuracy:\", accuracy)"
      ],
      "metadata": {
        "colab": {
          "base_uri": "https://localhost:8080/"
        },
        "id": "GCKg0XgrJRLf",
        "outputId": "c85fb0d8-8dc4-47f9-8d3e-2bf1a84946d6"
      },
      "execution_count": null,
      "outputs": [
        {
          "output_type": "stream",
          "name": "stdout",
          "text": [
            "Validation Accuracy: 0.514\n",
            "Test Accuracy: 0.9174334562131723\n"
          ]
        }
      ]
    },
    {
      "cell_type": "code",
      "source": [
        "books = [d['book_id'] for d in trainData]\n",
        "books = set(books)\n",
        "books = list(books)\n",
        "spoilersPerBook = {d: 0 for d in books}\n",
        "reviewsPerBook = {d: [] for d in books}\n",
        "for review in trainData:\n",
        "  if(review['has_spoiler']):\n",
        "    spoilersPerBook[review['book_id']] += 1\n",
        "  reviewsPerBook[review['book_id']].append(review)\n",
        "for book in books:\n",
        "  spoilersPerBook[book] = spoilersPerBook[book] / len(reviewsPerBook[book])\n",
        "\n",
        "# predict\n",
        "testY = [d['has_spoiler'] for d in testData]\n",
        "pred = []\n",
        "for review in testData:\n",
        "  if(review['book_id'] in books):\n",
        "    pred.append(spoilersPerBook[review['book_id']] >= 0.5)\n",
        "  else:\n",
        "    pred.append(False)\n",
        "accuracy = accuracy_score(testY, pred)\n",
        "print(\"number of reviews in test set with spoilers: \", np.sum(np.where(testY, 1, 0)))\n",
        "print(\"Accuracy:\", accuracy)"
      ],
      "metadata": {
        "id": "wqdExdow5bHA",
        "colab": {
          "base_uri": "https://localhost:8080/"
        },
        "outputId": "5433fa9f-3a98-4fee-a484-d13cf7a4de94"
      },
      "execution_count": null,
      "outputs": [
        {
          "output_type": "stream",
          "name": "stdout",
          "text": [
            "number of reviews in test set with spoilers:  2500\n",
            "Accuracy: 0.524\n"
          ]
        }
      ]
    },
    {
      "cell_type": "code",
      "source": [
        "# predict\n",
        "\n",
        "pred = []\n",
        "for review in rand_test_data:\n",
        "  if(review['book_id'] in books):\n",
        "    pred.append(spoilersPerBook[review['book_id']] >= 0.5)\n",
        "  else:\n",
        "    pred.append(False)\n",
        "\n",
        "randTestY = [d['has_spoiler'] for d in rand_test_data]\n",
        "accuracy = accuracy_score(randTestY, pred)\n",
        "print(\"number of reviews in test set with spoilers: \", np.sum(np.where(randTestY, 1, 0)))\n",
        "print(\"Accuracy:\", accuracy)"
      ],
      "metadata": {
        "id": "qLfR1Pi3HPUT",
        "colab": {
          "base_uri": "https://localhost:8080/"
        },
        "outputId": "f00e9abe-be6b-46e5-a5fc-f812c14f38a7"
      },
      "execution_count": null,
      "outputs": [
        {
          "output_type": "stream",
          "name": "stdout",
          "text": [
            "number of reviews in test set with spoilers:  4506\n",
            "Accuracy: 0.6174857043336913\n"
          ]
        }
      ]
    },
    {
      "cell_type": "code",
      "source": [
        "#################################################\n",
        "# Spoilers Per User                             #\n",
        "#################################################"
      ],
      "metadata": {
        "id": "EWpBtpc0eovi"
      },
      "execution_count": null,
      "outputs": []
    },
    {
      "cell_type": "code",
      "source": [
        "## train on random train set\n",
        "\n",
        "users = [d['user_id'] for d in rand_train_data]\n",
        "users = set(users)\n",
        "users = list(users)\n",
        "spoilersPerUser = {d: 0 for d in users}\n",
        "reviewsPerUser = {d: [] for d in users}\n",
        "\n",
        "for review in rand_train_data:\n",
        "  if(review['has_spoiler']):\n",
        "    spoilersPerUser[review['user_id']] += 1\n",
        "  reviewsPerUser[review['user_id']].append(review)\n",
        "for user in users:\n",
        "  spoilersPerUser[user] = spoilersPerUser[user] / len(reviewsPerUser[user])\n",
        "\n",
        "# predict\n",
        "pred = []\n",
        "for review in testData:\n",
        "  if(review['user_id'] in users):\n",
        "    pred.append(spoilersPerUser[review['user_id']] >= 0.5)\n",
        "  else:\n",
        "    pred.append(False)\n",
        "accuracy = accuracy_score(testY, pred)\n",
        "print(\"Accuracy:\", accuracy)"
      ],
      "metadata": {
        "colab": {
          "base_uri": "https://localhost:8080/"
        },
        "id": "KgMW83UBKR4e",
        "outputId": "031b14c1-0108-4c0d-fcf4-b418fa417495"
      },
      "execution_count": null,
      "outputs": [
        {
          "output_type": "stream",
          "name": "stdout",
          "text": [
            "Accuracy: 0.5498\n"
          ]
        }
      ]
    },
    {
      "cell_type": "code",
      "source": [
        "# predict\n",
        "pred = []\n",
        "for review in rand_test_data:\n",
        "  if(review['user_id'] in users):\n",
        "    pred.append(spoilersPerUser[review['user_id']] >= 0.5)\n",
        "  else:\n",
        "    pred.append(False)\n",
        "accuracy = accuracy_score(randTestY, pred)\n",
        "# print(\"number of reviews in test set with spoilers: \", np.sum(np.where(randTestY, 1, 0)))\n",
        "print(\"Accuracy:\", accuracy)"
      ],
      "metadata": {
        "colab": {
          "base_uri": "https://localhost:8080/"
        },
        "id": "q1da2SLYKjrK",
        "outputId": "b9100741-e488-4545-8e80-2e0190138314"
      },
      "execution_count": null,
      "outputs": [
        {
          "output_type": "stream",
          "name": "stdout",
          "text": [
            "Accuracy: 0.9238483643435604\n"
          ]
        }
      ]
    },
    {
      "cell_type": "code",
      "source": [
        "# calculates (# of spoilers)/(# of reviews) per user in the train dataset\n",
        "# predicts true if > 0.5 for the user, if < 0.5 or the user hasn't been seen before predict false\n",
        "\n",
        "users = [d['user_id'] for d in trainData]\n",
        "users = set(users)\n",
        "users = list(users)\n",
        "spoilersPerUser = {d: 0 for d in users}\n",
        "reviewsPerUser = {d: [] for d in users}\n",
        "\n",
        "for review in trainData:\n",
        "  if(review['has_spoiler']):\n",
        "    spoilersPerUser[review['user_id']] += 1\n",
        "  reviewsPerUser[review['user_id']].append(review)\n",
        "for user in users:\n",
        "  spoilersPerUser[user] = spoilersPerUser[user] / len(reviewsPerUser[user])\n",
        "\n",
        "# predict\n",
        "pred = []\n",
        "for review in testData:\n",
        "  if(review['user_id'] in users):\n",
        "    pred.append(spoilersPerUser[review['user_id']] >= 0.5)\n",
        "  else:\n",
        "    pred.append(False)\n",
        "accuracy = accuracy_score(testY, pred)\n",
        "print(\"Accuracy:\", accuracy)"
      ],
      "metadata": {
        "id": "E1XVh3puRfM6",
        "colab": {
          "base_uri": "https://localhost:8080/"
        },
        "outputId": "81c3d99f-4fd0-4a74-90b0-e897fad5882a"
      },
      "execution_count": null,
      "outputs": [
        {
          "output_type": "stream",
          "name": "stdout",
          "text": [
            "number of reviews in test set with spoilers:  2500\n",
            "Accuracy: 0.6696\n"
          ]
        }
      ]
    },
    {
      "cell_type": "code",
      "source": [
        "# predict\n",
        "pred = []\n",
        "for review in rand_test_data:\n",
        "  if(review['user_id'] in users):\n",
        "    pred.append(spoilersPerUser[review['user_id']] >= 0.5)\n",
        "  else:\n",
        "    pred.append(False)\n",
        "accuracy = accuracy_score(randTestY, pred)\n",
        "print(\"number of reviews in test set with spoilers: \", np.sum(np.where(randTestY, 1, 0)))\n",
        "print(\"Accuracy:\", accuracy)"
      ],
      "metadata": {
        "id": "OL5cugwmGq8-",
        "colab": {
          "base_uri": "https://localhost:8080/"
        },
        "outputId": "b3b9a132-7f60-4c7b-d1f7-f8ef356e18ec"
      },
      "execution_count": null,
      "outputs": [
        {
          "output_type": "stream",
          "name": "stdout",
          "text": [
            "number of reviews in test set with spoilers:  4506\n",
            "Accuracy: 0.7033177556529564\n"
          ]
        }
      ]
    },
    {
      "cell_type": "code",
      "source": [
        "################################################################\n",
        "# Word2Vec Model                                             #\n",
        "#trademarked/pattented/copyright by Andrew Lu and friends    #\n",
        "################################################################"
      ],
      "metadata": {
        "id": "X3kWy6N7esc3"
      },
      "execution_count": null,
      "outputs": []
    },
    {
      "cell_type": "code",
      "source": [
        "rand_train_df = pd.DataFrame(rand_train_data)\n",
        "\n",
        "spoilersReview = rand_train_df[rand_train_df['has_spoiler'] == True]\n",
        "print(spoilersReview.head())\n",
        "spoilersData = []\n",
        "for review in spoilersReview.itertuples():\n",
        "  for sentence in review.review_sentences:\n",
        "    label = int(sentence[0])\n",
        "    text = sentence[1]\n",
        "    spoilersData.append((text, label))\n",
        "print(spoilersData[:10])\n",
        "nltk.download('punkt_tab')\n",
        "nltk.download('stopwords')\n",
        "stopWords = set(stopwords.words('english'))\n",
        "ppData = []\n",
        "for text,label in spoilersData:\n",
        "  tokens = word_tokenize(text.lower())\n",
        "  tokens = [word for word in tokens if word.isalpha() and word not in stopWords]\n",
        "  ppData.append((tokens, label))\n",
        "\n",
        "sentences = [tokens for tokens, _ in ppData]\n",
        "model = Word2Vec(sentences, vector_size=100, window=5, min_count=1, workers=4)\n",
        "model.save(\"word2vec.model\")\n",
        "\n",
        "def sentence_vector(sentence, model):\n",
        "    vectors = [model.wv[word] for word in sentence if word in model.wv]\n",
        "    if vectors:\n",
        "        return np.mean(vectors, axis=0)\n",
        "    else:\n",
        "        return np.zeros(model.vector_size)\n",
        "x_train = []\n",
        "y_train = []\n",
        "for tokens, labels in ppData:\n",
        "  vec = sentence_vector(tokens, model)\n",
        "  x_train.append(vec)\n",
        "  y_train.append(labels)\n",
        "x_train = np.array(x_train)\n",
        "y_train = np.array(y_train)\n"
      ],
      "metadata": {
        "colab": {
          "base_uri": "https://localhost:8080/"
        },
        "id": "55J4zXwbQeYc",
        "outputId": "15e79c72-d934-4ca1-d394-8e761e581ed1"
      },
      "execution_count": null,
      "outputs": [
        {
          "output_type": "stream",
          "name": "stdout",
          "text": [
            "                             user_id   timestamp  \\\n",
            "1   314e2b5c96368d8d3d92f10d451f85f1  2013-12-20   \n",
            "2   16df3e755aadb09f5abbe06fe06ce2d1  2017-01-11   \n",
            "19  5575b4134bfb19926726616daf53bb19  2017-01-15   \n",
            "25  dad0d3c7a8100bfb0b74c5d1d195ef6d  2017-06-06   \n",
            "28  009a47e49c0dc6e84d1c5e0eb4cdf7f6  2016-03-02   \n",
            "\n",
            "                                     review_sentences  rating  has_spoiler  \\\n",
            "1   [[0, 2+ stars], [0, I really liked the beginni...       2         True   \n",
            "2   [[0, 2.5 stars.], [0, Do NOT read the spoiler ...       3         True   \n",
            "19  [[0, Hm ... while this is still as compulsivel...       3         True   \n",
            "25  [[0, Darkness never dies], [0, Hunted across t...       4         True   \n",
            "28  [[0, I'm labelling these books as contemp roma...       4         True   \n",
            "\n",
            "     book_id                         review_id  \n",
            "1    5709572  d97220b61c241ecf2edbdfa7e5832197  \n",
            "2   11405641  ecac9a92cd1285e7e4f8cd13c2ed5ea4  \n",
            "19  26061581  bcba18908e8586e76ce99f1823e8f6a8  \n",
            "25  18525661  638e89bc573df651eb5b6bf75237fc58  \n",
            "28  16247792  49eab00d92f846dd700a0230d3518e57  \n",
            "[('2+ stars', 0), ('I really liked the beginning of the book.', 0), ('It had a wonderful premise and the writing was both engaging and touching.', 0), ('It starts with the pov of Thomas.', 0), ('I really enjoyed how he described Marcus and it was easy to feel his love for him and commitment to his family and how the separation was eating at him.', 0), ('Then we see Marcus fighting for him and I thought that it was going to be a great 5 star read.', 0), (\"Thomas's art and personality were lovingly described from Marcus's perspective too.\", 0), ('The characters were so complex in a good way.', 0), (\"But then the story took a direction I didn't like.\", 0), (\"Thomas believes that he doesn't mean much to Marcus as he is closed emotionally.\", 0)]\n"
          ]
        },
        {
          "output_type": "stream",
          "name": "stderr",
          "text": [
            "[nltk_data] Downloading package punkt_tab to /root/nltk_data...\n",
            "[nltk_data]   Package punkt_tab is already up-to-date!\n",
            "[nltk_data] Downloading package stopwords to /root/nltk_data...\n",
            "[nltk_data]   Package stopwords is already up-to-date!\n"
          ]
        }
      ]
    },
    {
      "cell_type": "code",
      "source": [
        "# preprocess testData\n",
        "test_df = pd.DataFrame(testData)\n",
        "testSpoilersReview = test_df[test_df['has_spoiler'] == True]\n",
        "ppDataTest = []\n",
        "\n",
        "testSpoilersData = []\n",
        "for review in testSpoilersReview.itertuples():\n",
        "  for sentence in review.review_sentences:\n",
        "    label = int(sentence[0])\n",
        "    text = sentence[1]\n",
        "    testSpoilersData.append((text, label))\n",
        "\n",
        "for text,label in testSpoilersData:\n",
        "  tokens = word_tokenize(text.lower())\n",
        "  tokens = [word for word in tokens if word.isalpha() and word not in stopWords]\n",
        "  ppDataTest.append((tokens, label))\n",
        "\n",
        "x_test = []\n",
        "y_test = []\n",
        "for tokens, labels in ppDataTest:\n",
        "  vec = sentence_vector(tokens, model)\n",
        "  x_test.append(vec)\n",
        "  y_test.append(labels)\n",
        "x_test = np.array(x_test)\n",
        "y_test = np.array(y_test)"
      ],
      "metadata": {
        "id": "O18H_GL8tGkg"
      },
      "execution_count": null,
      "outputs": []
    },
    {
      "cell_type": "code",
      "source": [
        "clf = RandomForestClassifier(n_estimators=10)\n",
        "clf.fit(x_train, y_train)\n",
        "y_pred = clf.predict(x_test)\n",
        "print(\"Accuracy:\", accuracy_score(y_test, y_pred))"
      ],
      "metadata": {
        "colab": {
          "base_uri": "https://localhost:8080/"
        },
        "id": "Zd13wVn6SLLV",
        "outputId": "38e6929d-df67-483c-f22a-5c8ef50aadd7"
      },
      "execution_count": null,
      "outputs": [
        {
          "output_type": "stream",
          "name": "stdout",
          "text": [
            "Accuracy: 0.7512196774630708\n"
          ]
        }
      ]
    },
    {
      "cell_type": "code",
      "source": [
        "## random test set\n",
        "\n",
        "rand_test_df = pd.DataFrame(rand_test_data)\n",
        "randTestSpoilersReview = rand_test_df[rand_test_df['has_spoiler'] == True]\n",
        "ppRandDataTest = []\n",
        "\n",
        "randTestSpoilersData = []\n",
        "for review in randTestSpoilersReview.itertuples():\n",
        "  for sentence in review.review_sentences:\n",
        "    label = int(sentence[0])\n",
        "    text = sentence[1]\n",
        "    randTestSpoilersData.append((text, label))\n",
        "\n",
        "for text,label in randTestSpoilersData:\n",
        "  tokens = word_tokenize(text.lower())\n",
        "  tokens = [word for word in tokens if word.isalpha() and word not in stopWords]\n",
        "  ppRandDataTest.append((tokens, label))\n",
        "\n",
        "x_rand_test = []\n",
        "y_rand_test = []\n",
        "for tokens, labels in ppRandDataTest:\n",
        "  vec = sentence_vector(tokens, model)\n",
        "  x_rand_test.append(vec)\n",
        "  y_rand_test.append(labels)\n",
        "x_rand_test = np.array(x_rand_test)\n",
        "y_rand_test = np.array(y_rand_test)\n",
        "\n",
        "\n",
        "\n",
        "rand_y_pred = clf.predict(x_rand_test)\n",
        "print(\"Accuracy:\", accuracy_score(y_rand_test, rand_y_pred))"
      ],
      "metadata": {
        "id": "njg-Q8dxFjld",
        "colab": {
          "base_uri": "https://localhost:8080/"
        },
        "outputId": "a74c67ff-323b-46ef-f9b9-15177689b112"
      },
      "execution_count": null,
      "outputs": [
        {
          "output_type": "stream",
          "name": "stdout",
          "text": [
            "Accuracy: 0.7300750889210907\n"
          ]
        }
      ]
    },
    {
      "cell_type": "code",
      "execution_count": null,
      "metadata": {
        "id": "qZLVzAl1EU5G",
        "colab": {
          "base_uri": "https://localhost:8080/"
        },
        "outputId": "396eaaff-596c-43b6-d652-bb6a14758847"
      },
      "outputs": [
        {
          "output_type": "stream",
          "name": "stdout",
          "text": [
            "                             user_id   timestamp  \\\n",
            "3   900c1edf2ede90f385872938ce6f16c9  2014-07-04   \n",
            "20  4f5e21f30fb8399885b3a2dd913f7b07  2014-07-25   \n",
            "26  2ab7669e560379b8ffeeb8f8e1f55fa3  2011-03-19   \n",
            "30  c8c5b8df45ce7756f67cd348dd584f61  2017-08-10   \n",
            "32  c38b4e3ae6d4d5082e09ab95689cb092  2014-06-29   \n",
            "\n",
            "                                     review_sentences  rating  has_spoiler  \\\n",
            "3   [[0, This book features Michael, the man who d...       4         True   \n",
            "20  [[0, Duke Leto Atreides knows Arrakis is a tra...       4         True   \n",
            "26  [[1, ZOMG!], [1, I fell in love with this book...       5         True   \n",
            "30  [[0, I quite enjoyed this book.], [0, But that...       4         True   \n",
            "32  [[0, This is a coming of age story about Ruth ...       4         True   \n",
            "\n",
            "     book_id                         review_id  \n",
            "3   22370569  bf1dc58672a2e92a66ae117100356566  \n",
            "20    234225  5db7c43f380762a5fee13202bd91d778  \n",
            "26     13152  900b72395fb05ac331c8ffe369b3cf55  \n",
            "30  18191460  bcdf2ab26f2fdc47e5874020608fc3e2  \n",
            "32  13184572  6e4fe70a91f321ca7ea795444518669f  \n",
            "[('This book features Michael, the man who does gay sexual surrogacy for the sex-therapy clinic in this series.', 0), ('I really liked Michael.', 0), (\"He's a man with a lot of compassion and enthusiasm for his ability to help people.\", 0), (\"He's also an in-home nurse for elderly patients, and equally caring in that difficult and vital job.\", 0), (\"He hasn't had a relationship himself for a while, because a boyfriend who would be okay with his vital surrogacy work seems hard to imagine.\", 0), ('When J.C.', 0), (\"Guise, his favorite, reclusive author, appears at a local bookstore it's a bit of a case of fan-boy at first sight.\", 0), (\"James lost the use of his legs to polio as a small boy, and he doesn't trust easily.\", 0), ('His career as a writer, which began with a bang with his first novel, is sliding into whimper-status.', 0), (\"He's lost his own enthusiasm for his work, and begrudgingly agrees to some publicity.\", 0)]\n"
          ]
        },
        {
          "output_type": "stream",
          "name": "stderr",
          "text": [
            "[nltk_data] Downloading package punkt_tab to /root/nltk_data...\n",
            "[nltk_data]   Unzipping tokenizers/punkt_tab.zip.\n",
            "[nltk_data] Downloading package stopwords to /root/nltk_data...\n",
            "[nltk_data]   Unzipping corpora/stopwords.zip.\n"
          ]
        }
      ],
      "source": [
        "## word2vec model\n",
        "spoilersReview = train_df[train_df['has_spoiler'] == True]\n",
        "print(spoilersReview.head())\n",
        "spoilersData = []\n",
        "for review in spoilersReview.itertuples():\n",
        "  for sentence in review.review_sentences:\n",
        "    label = int(sentence[0])\n",
        "    text = sentence[1]\n",
        "    spoilersData.append((text, label))\n",
        "print(spoilersData[:10])\n",
        "nltk.download('punkt_tab')\n",
        "nltk.download('stopwords')\n",
        "stopWords = set(stopwords.words('english'))\n",
        "ppData = []\n",
        "for text,label in spoilersData:\n",
        "  tokens = word_tokenize(text.lower())\n",
        "  tokens = [word for word in tokens if word.isalpha() and word not in stopWords]\n",
        "  ppData.append((tokens, label))"
      ]
    },
    {
      "cell_type": "code",
      "execution_count": null,
      "metadata": {
        "id": "feSBdW5ZIUvg"
      },
      "outputs": [],
      "source": [
        "sentences = [tokens for tokens, _ in ppData]\n",
        "model = Word2Vec(sentences, vector_size=100, window=5, min_count=1, workers=4)\n",
        "model.save(\"word2vec.model\")"
      ]
    },
    {
      "cell_type": "code",
      "execution_count": null,
      "metadata": {
        "id": "pf8SNmc8IopW"
      },
      "outputs": [],
      "source": [
        "def sentence_vector(sentence, model):\n",
        "    vectors = [model.wv[word] for word in sentence if word in model.wv]\n",
        "    if vectors:\n",
        "        return np.mean(vectors, axis=0)\n",
        "    else:\n",
        "        return np.zeros(model.vector_size)\n",
        "x_train = []\n",
        "y_train = []\n",
        "for tokens, labels in ppData:\n",
        "  vec = sentence_vector(tokens, model)\n",
        "  x_train.append(vec)\n",
        "  y_train.append(labels)\n",
        "x_train = np.array(x_train)\n",
        "y_train = np.array(y_train)"
      ]
    },
    {
      "cell_type": "code",
      "execution_count": null,
      "metadata": {
        "id": "ANPRDhKXJ3FW",
        "colab": {
          "base_uri": "https://localhost:8080/"
        },
        "outputId": "298e9ec1-812e-4da2-eb5b-4417aa23f6e4"
      },
      "outputs": [
        {
          "output_type": "stream",
          "name": "stdout",
          "text": [
            "Accuracy: 0.729265483127795\n"
          ]
        }
      ],
      "source": [
        "clf = RandomForestClassifier(n_estimators=10)\n",
        "clf.fit(x_train, y_train)\n",
        "y_pred = clf.predict(x_test)\n",
        "print(\"Accuracy:\", accuracy_score(y_test, y_pred))\n"
      ]
    },
    {
      "cell_type": "code",
      "source": [
        "#################################################\n",
        "# Combination: Spoiler Per User + Word2Vec      #\n",
        "#################################################"
      ],
      "metadata": {
        "id": "pFpKRhKffX9j"
      },
      "execution_count": null,
      "outputs": []
    },
    {
      "cell_type": "code",
      "source": [],
      "metadata": {
        "id": "6U1L6M9KLNyL"
      },
      "execution_count": null,
      "outputs": []
    },
    {
      "cell_type": "code",
      "source": [
        "pred = []\n",
        "for i in range(len(testData)):\n",
        "  if(testData[i]['user_id'] in users):\n",
        "    pred.append(spoilersPerUser[testData[i]['user_id']] >= 0.5)\n",
        "  else:\n",
        "    pred.append(clf.predict([x_test[i]])[0])\n",
        "accuracy = accuracy_score(testY, pred)\n",
        "print(\"Validation Accuracy:\", accuracy)\n",
        "\n",
        "\n",
        "pred = []\n",
        "for i in range(len(rand_test_data)):\n",
        "  if(rand_test_data[i]['user_id'] in users):\n",
        "    pred.append(spoilersPerUser[rand_test_data[i]['user_id']] >= 0.5)\n",
        "  else:\n",
        "    pred.append(clf.predict([x_rand_test[i]])[0])\n",
        "accuracy = accuracy_score(randTestY, pred)\n",
        "print(\"Test Accuracy:\", accuracy)"
      ],
      "metadata": {
        "id": "A94x0nTxgh5a",
        "colab": {
          "base_uri": "https://localhost:8080/"
        },
        "outputId": "ac9685c3-ae4b-4284-f8d4-0e698afc2843"
      },
      "execution_count": null,
      "outputs": [
        {
          "output_type": "stream",
          "name": "stdout",
          "text": [
            "Validation Accuracy: 0.5522\n",
            "Test Accuracy: 0.9222518939943688\n"
          ]
        }
      ]
    },
    {
      "cell_type": "code",
      "source": [],
      "metadata": {
        "id": "XiYHxe3QIpzw"
      },
      "execution_count": null,
      "outputs": []
    }
  ],
  "metadata": {
    "colab": {
      "provenance": [],
      "include_colab_link": true
    },
    "kernelspec": {
      "display_name": "Python 3",
      "name": "python3"
    },
    "language_info": {
      "name": "python"
    }
  },
  "nbformat": 4,
  "nbformat_minor": 0
}